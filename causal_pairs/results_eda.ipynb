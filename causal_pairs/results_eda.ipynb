{
 "cells": [
  {
   "cell_type": "code",
   "execution_count": 4,
   "metadata": {
    "metadata": {}
   },
   "outputs": [],
   "source": [
    "import pandas as pd"
   ]
  },
  {
   "cell_type": "code",
   "execution_count": 7,
   "metadata": {
    "metadata": {}
   },
   "outputs": [],
   "source": [
    "cols_to_use = [\n",
    "    \"weight\",\n",
    "    \"subsample_size\",\n",
    "    \"resit_is_correct\",\n",
    "    \"resit_gzip_is_correct\",\n",
    "    \"resit_bz2_is_correct\",\n",
    "    \"resit_lzma_is_correct\",\n",
    "    \"resit_zstandard_is_correct\",\n",
    "]\n",
    "df = pd.read_pickle(\"causal_pair_results.pickle\").query(\"num_features==2\")[cols_to_use]\n",
    "for c in cols_to_use:\n",
    "    if c.startswith(\"resit\"):\n",
    "        df[c] = df[c] * df[\"weight\"]\n",
    "# df.drop(columns=\"weight\", inplace=True)\n",
    "df = df.rename(columns={\n",
    "    \"resit_is_correct\":\"HSIC\",\n",
    "    \"resit_gzip_is_correct\":r\"\\texttt{gzip}\",\n",
    "    \"resit_bz2_is_correct\":r\"\\texttt{bz2}\",\n",
    "    \"resit_lzma_is_correct\":r\"\\texttt{lzma}\",\n",
    "    \"resit_zstandard_is_correct\":r\"\\texttt{zstandard}\",\n",
    "})"
   ]
  },
  {
   "cell_type": "code",
   "execution_count": 36,
   "metadata": {},
   "outputs": [
    {
     "name": "stdout",
     "output_type": "stream",
     "text": [
      "\\begin{tabular}{lrrrrr}\n",
      "\\toprule\n",
      " & HSIC & \\texttt{gzip} & \\texttt{bz2} & \\texttt{lzma} & \\texttt{zstandard} \\\\\n",
      "subsample_size &  &  &  &  &  \\\\\n",
      "\\midrule\n",
      "-1.000000 & 67.500000 & 59.000000 & 57.900000 & 55.600000 & 56.700000 \\\\\n",
      "50.000000 & 46.900000 & 48.900000 & 53.400000 & 48.900000 & 47.800000 \\\\\n",
      "100.000000 & 55.800000 & 55.600000 & 55.600000 & 51.100000 & 51.100000 \\\\\n",
      "500.000000 & 60.600000 & 56.700000 & 57.900000 & 56.700000 & 54.500000 \\\\\n",
      "\\bottomrule\n",
      "\\end{tabular}\n",
      "\n"
     ]
    }
   ],
   "source": [
    "grouped_df = df.groupby(\"subsample_size\").sum()\n",
    "grouped_df = (grouped_df/grouped_df[\"weight\"].to_numpy().reshape(-1,1)).drop(columns=\"weight\")\n",
    "grouped_df = (grouped_df*100).astype(float).round(1)\n",
    "latex_table = grouped_df.to_latex(escape=False)\n",
    "print(latex_table)"
   ]
  },
  {
   "cell_type": "code",
   "execution_count": null,
   "metadata": {},
   "outputs": [],
   "source": []
  }
 ],
 "metadata": {
  "kernelspec": {
   "display_name": "base",
   "language": "python",
   "name": "python3"
  },
  "language_info": {
   "codemirror_mode": {
    "name": "ipython",
    "version": 3
   },
   "file_extension": ".py",
   "mimetype": "text/x-python",
   "name": "python",
   "nbconvert_exporter": "python",
   "pygments_lexer": "ipython3",
   "version": "3.12.2"
  }
 },
 "nbformat": 4,
 "nbformat_minor": 2
}
