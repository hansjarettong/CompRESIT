{
 "cells": [
  {
   "cell_type": "code",
   "execution_count": 1,
   "metadata": {},
   "outputs": [],
   "source": [
    "import pandas as pd\n",
    "\n",
    "from pprint import pprint\n",
    "from contextlib import contextmanager\n",
    "\n",
    "from io import StringIO\n",
    "import re\n",
    "\n",
    "\n",
    "@contextmanager\n",
    "def display_custom_rows(num_rows):\n",
    "    original_max_rows = pd.get_option('display.max_rows')\n",
    "    pd.set_option('display.max_rows', num_rows)\n",
    "    try:\n",
    "        yield\n",
    "    finally:\n",
    "        pd.set_option('display.max_rows', original_max_rows)\n"
   ]
  },
  {
   "cell_type": "markdown",
   "metadata": {},
   "source": [
    "## Clean Data"
   ]
  },
  {
   "cell_type": "code",
   "execution_count": 2,
   "metadata": {},
   "outputs": [],
   "source": [
    "with open(\"pairs/README\", \"r\") as f:\n",
    "    raw_readme = f.read().split(\"\\n\")[29:]\n",
    "\n",
    "cols = raw_readme.pop(0)\n",
    "cols = [\"pair\"] + [c.strip() for c in cols.replace(\"\\t\",\"|\").split(\"|\") if c] + [\"group\"]\n",
    "\n",
    "group_num = 0\n",
    "rows = []\n",
    "for line in raw_readme:\n",
    "    if line.strip() == '':\n",
    "        group_num += 1\n",
    "        continue\n",
    "    rows.append([c.strip() for c in line.replace(\" \" * 5, \"\\t\").replace(\"\\t\",\"|\").split(\"|\") if c] + [group_num])\n",
    "\n",
    "pairs_info_df = pd.DataFrame(rows, columns = cols)\n",
    "\n",
    "# with display_custom_rows(110):\n",
    "#     display(readme_df)"
   ]
  },
  {
   "cell_type": "code",
   "execution_count": 3,
   "metadata": {},
   "outputs": [],
   "source": [
    "pair_np_arrs = dict()\n",
    "for pair in pairs_info_df.pair:\n",
    "    file = f\"pairs/{pair}.txt\"\n",
    "    with open(file, \"r\") as f:\n",
    "        raw_str = re.sub(r'[^\\S\\n]+', ' ', f.read())\n",
    "        buffer = StringIO(raw_str)    \n",
    "    pair_data = pd.read_csv(buffer, sep=None, engine=\"python\", header=None).dropna(axis=1).to_numpy()\n",
    "    pair_np_arrs[pair] = pair_data\n"
   ]
  },
  {
   "cell_type": "code",
   "execution_count": 4,
   "metadata": {},
   "outputs": [],
   "source": [
    "pairs_info_df = pairs_info_df.assign(\n",
    "    sample_size = lambda x: x.pair.map(lambda y: pair_np_arrs[y].shape[0]),\n",
    "    num_features = lambda x: x.pair.map(lambda y: pair_np_arrs[y].shape[1]),\n",
    "    weight = 1.0,\n",
    "    pair_num = lambda x: x.pair.str[5:].astype(int),\n",
    ")"
   ]
  },
  {
   "cell_type": "code",
   "execution_count": 5,
   "metadata": {},
   "outputs": [
    {
     "data": {
      "text/html": [
       "<div>\n",
       "<style scoped>\n",
       "    .dataframe tbody tr th:only-of-type {\n",
       "        vertical-align: middle;\n",
       "    }\n",
       "\n",
       "    .dataframe tbody tr th {\n",
       "        vertical-align: top;\n",
       "    }\n",
       "\n",
       "    .dataframe thead th {\n",
       "        text-align: right;\n",
       "    }\n",
       "</style>\n",
       "<table border=\"1\" class=\"dataframe\">\n",
       "  <thead>\n",
       "    <tr style=\"text-align: right;\">\n",
       "      <th></th>\n",
       "      <th>pair</th>\n",
       "      <th>var 1</th>\n",
       "      <th>var 2</th>\n",
       "      <th>dataset</th>\n",
       "      <th>ground truth</th>\n",
       "      <th>group</th>\n",
       "      <th>sample_size</th>\n",
       "      <th>num_features</th>\n",
       "      <th>weight</th>\n",
       "      <th>pair_num</th>\n",
       "    </tr>\n",
       "  </thead>\n",
       "  <tbody>\n",
       "    <tr>\n",
       "      <th>0</th>\n",
       "      <td>pair0001</td>\n",
       "      <td>Altitude</td>\n",
       "      <td>Temperature</td>\n",
       "      <td>DWD</td>\n",
       "      <td>-&gt;</td>\n",
       "      <td>1</td>\n",
       "      <td>349</td>\n",
       "      <td>2</td>\n",
       "      <td>1.0</td>\n",
       "      <td>1</td>\n",
       "    </tr>\n",
       "    <tr>\n",
       "      <th>1</th>\n",
       "      <td>pair0002</td>\n",
       "      <td>Altitude</td>\n",
       "      <td>Precipitation</td>\n",
       "      <td>DWD</td>\n",
       "      <td>-&gt;</td>\n",
       "      <td>1</td>\n",
       "      <td>349</td>\n",
       "      <td>2</td>\n",
       "      <td>1.0</td>\n",
       "      <td>2</td>\n",
       "    </tr>\n",
       "    <tr>\n",
       "      <th>2</th>\n",
       "      <td>pair0003</td>\n",
       "      <td>Longitude</td>\n",
       "      <td>Temperature</td>\n",
       "      <td>DWD</td>\n",
       "      <td>-&gt;</td>\n",
       "      <td>1</td>\n",
       "      <td>349</td>\n",
       "      <td>2</td>\n",
       "      <td>1.0</td>\n",
       "      <td>3</td>\n",
       "    </tr>\n",
       "    <tr>\n",
       "      <th>3</th>\n",
       "      <td>pair0004</td>\n",
       "      <td>Altitude</td>\n",
       "      <td>Sunshine hours</td>\n",
       "      <td>DWD</td>\n",
       "      <td>-&gt;</td>\n",
       "      <td>1</td>\n",
       "      <td>349</td>\n",
       "      <td>2</td>\n",
       "      <td>1.0</td>\n",
       "      <td>4</td>\n",
       "    </tr>\n",
       "    <tr>\n",
       "      <th>4</th>\n",
       "      <td>pair0005</td>\n",
       "      <td>Age</td>\n",
       "      <td>Length</td>\n",
       "      <td>Abalone</td>\n",
       "      <td>-&gt;</td>\n",
       "      <td>2</td>\n",
       "      <td>4177</td>\n",
       "      <td>2</td>\n",
       "      <td>1.0</td>\n",
       "      <td>5</td>\n",
       "    </tr>\n",
       "    <tr>\n",
       "      <th>...</th>\n",
       "      <td>...</td>\n",
       "      <td>...</td>\n",
       "      <td>...</td>\n",
       "      <td>...</td>\n",
       "      <td>...</td>\n",
       "      <td>...</td>\n",
       "      <td>...</td>\n",
       "      <td>...</td>\n",
       "      <td>...</td>\n",
       "      <td>...</td>\n",
       "    </tr>\n",
       "    <tr>\n",
       "      <th>103</th>\n",
       "      <td>pair0104</td>\n",
       "      <td>time for passing 1. segment</td>\n",
       "      <td>time for passing 2. segment</td>\n",
       "      <td>D. Janzing</td>\n",
       "      <td>-&gt;</td>\n",
       "      <td>48</td>\n",
       "      <td>109</td>\n",
       "      <td>2</td>\n",
       "      <td>1.0</td>\n",
       "      <td>104</td>\n",
       "    </tr>\n",
       "    <tr>\n",
       "      <th>104</th>\n",
       "      <td>pair0105</td>\n",
       "      <td>pixel vector of a patch</td>\n",
       "      <td>total brightness at the screen</td>\n",
       "      <td>D. Janzing</td>\n",
       "      <td>-&gt;</td>\n",
       "      <td>49</td>\n",
       "      <td>1000</td>\n",
       "      <td>10</td>\n",
       "      <td>1.0</td>\n",
       "      <td>105</td>\n",
       "    </tr>\n",
       "    <tr>\n",
       "      <th>105</th>\n",
       "      <td>pair0106</td>\n",
       "      <td>time required for one round</td>\n",
       "      <td>voltage</td>\n",
       "      <td>D. Janzing</td>\n",
       "      <td>&lt;-</td>\n",
       "      <td>50</td>\n",
       "      <td>114</td>\n",
       "      <td>2</td>\n",
       "      <td>1.0</td>\n",
       "      <td>106</td>\n",
       "    </tr>\n",
       "    <tr>\n",
       "      <th>106</th>\n",
       "      <td>pair0107</td>\n",
       "      <td>strength of contrast</td>\n",
       "      <td>answer correct or not</td>\n",
       "      <td>Schuett, edited by D. Janzing</td>\n",
       "      <td>-&gt;</td>\n",
       "      <td>51</td>\n",
       "      <td>240</td>\n",
       "      <td>2</td>\n",
       "      <td>1.0</td>\n",
       "      <td>107</td>\n",
       "    </tr>\n",
       "    <tr>\n",
       "      <th>107</th>\n",
       "      <td>pair0108</td>\n",
       "      <td>time for 1/6 rotation</td>\n",
       "      <td>temperature</td>\n",
       "      <td>D. Janzing</td>\n",
       "      <td>&lt;-</td>\n",
       "      <td>52</td>\n",
       "      <td>112</td>\n",
       "      <td>2</td>\n",
       "      <td>1.0</td>\n",
       "      <td>108</td>\n",
       "    </tr>\n",
       "  </tbody>\n",
       "</table>\n",
       "<p>108 rows × 10 columns</p>\n",
       "</div>"
      ],
      "text/plain": [
       "         pair                        var 1                           var 2  \\\n",
       "0    pair0001                     Altitude                     Temperature   \n",
       "1    pair0002                     Altitude                   Precipitation   \n",
       "2    pair0003                    Longitude                     Temperature   \n",
       "3    pair0004                     Altitude                  Sunshine hours   \n",
       "4    pair0005                          Age                          Length   \n",
       "..        ...                          ...                             ...   \n",
       "103  pair0104  time for passing 1. segment     time for passing 2. segment   \n",
       "104  pair0105      pixel vector of a patch  total brightness at the screen   \n",
       "105  pair0106  time required for one round                         voltage   \n",
       "106  pair0107         strength of contrast           answer correct or not   \n",
       "107  pair0108        time for 1/6 rotation                     temperature   \n",
       "\n",
       "                           dataset ground truth  group  sample_size  \\\n",
       "0                              DWD           ->      1          349   \n",
       "1                              DWD           ->      1          349   \n",
       "2                              DWD           ->      1          349   \n",
       "3                              DWD           ->      1          349   \n",
       "4                          Abalone           ->      2         4177   \n",
       "..                             ...          ...    ...          ...   \n",
       "103                     D. Janzing           ->     48          109   \n",
       "104                     D. Janzing           ->     49         1000   \n",
       "105                     D. Janzing           <-     50          114   \n",
       "106  Schuett, edited by D. Janzing           ->     51          240   \n",
       "107                     D. Janzing           <-     52          112   \n",
       "\n",
       "     num_features  weight  pair_num  \n",
       "0               2     1.0         1  \n",
       "1               2     1.0         2  \n",
       "2               2     1.0         3  \n",
       "3               2     1.0         4  \n",
       "4               2     1.0         5  \n",
       "..            ...     ...       ...  \n",
       "103             2     1.0       104  \n",
       "104            10     1.0       105  \n",
       "105             2     1.0       106  \n",
       "106             2     1.0       107  \n",
       "107             2     1.0       108  \n",
       "\n",
       "[108 rows x 10 columns]"
      ]
     },
     "execution_count": 5,
     "metadata": {},
     "output_type": "execute_result"
    }
   ],
   "source": [
    "pairs_info_df"
   ]
  },
  {
   "cell_type": "code",
   "execution_count": 6,
   "metadata": {},
   "outputs": [],
   "source": [
    "similar_pairs = [\n",
    "    [49,50,51],\n",
    "    [56, 57, 58, 59, 60, 61, 62, 63],\n",
    "    [81, 82, 83],\n",
    "    [89, 90],\n",
    "    [97, 98],   \n",
    "]"
   ]
  },
  {
   "cell_type": "code",
   "execution_count": 7,
   "metadata": {},
   "outputs": [],
   "source": [
    "for spairs in similar_pairs:\n",
    "    weight = 1/len(spairs)\n",
    "    pairs_info_df.loc[pairs_info_df.pair_num.isin(spairs), \"weight\"] = weight"
   ]
  },
  {
   "cell_type": "markdown",
   "metadata": {},
   "source": [
    "## Test with RESIT and GZIP RESIT"
   ]
  },
  {
   "cell_type": "code",
   "execution_count": 8,
   "metadata": {},
   "outputs": [],
   "source": [
    "import sys\n",
    "sys.path.append(\"..\")\n",
    "\n",
    "from resit import MaxNormNCDRESIT, LevenshteinRESIT\n",
    "from lingam import RESIT\n",
    "\n",
    "from tqdm import tqdm\n",
    "import numpy as np\n",
    "from joblib import Parallel, delayed\n",
    "\n",
    "\n",
    "from sklearn.ensemble import RandomForestRegressor"
   ]
  },
  {
   "cell_type": "code",
   "execution_count": 9,
   "metadata": {},
   "outputs": [],
   "source": [
    "pairs = pairs_info_df.loc[pairs_info_df.num_features == 2, \"pair\"]"
   ]
  },
  {
   "cell_type": "code",
   "execution_count": 10,
   "metadata": {},
   "outputs": [
    {
     "data": {
      "text/plain": [
       "True"
      ]
     },
     "execution_count": 10,
     "metadata": {},
     "output_type": "execute_result"
    }
   ],
   "source": [
    "tuple([0,1]) == (0,1)"
   ]
  },
  {
   "cell_type": "code",
   "execution_count": 11,
   "metadata": {},
   "outputs": [
    {
     "data": {
      "text/plain": [
       "(0, 1)"
      ]
     },
     "execution_count": 11,
     "metadata": {},
     "output_type": "execute_result"
    }
   ],
   "source": [
    "tuple(np.random.choice(2, size=2, replace=False))"
   ]
  },
  {
   "cell_type": "code",
   "execution_count": 18,
   "metadata": {},
   "outputs": [
    {
     "name": "stderr",
     "output_type": "stream",
     "text": [
      " 59%|█████▉    | 60/102 [00:03<00:02, 16.22it/s]/home/hong/miniconda3/lib/python3.12/site-packages/numpy/core/fromnumeric.py:3504: RuntimeWarning: Mean of empty slice.\n",
      "  return _methods._mean(a, axis=axis, dtype=dtype,\n",
      "/home/hong/miniconda3/lib/python3.12/site-packages/numpy/core/_methods.py:129: RuntimeWarning: invalid value encountered in scalar divide\n",
      "  ret = ret.dtype.type(ret / rcount)\n",
      "/home/hong/miniconda3/lib/python3.12/site-packages/numpy/core/fromnumeric.py:3504: RuntimeWarning: Mean of empty slice.\n",
      "  return _methods._mean(a, axis=axis, dtype=dtype,\n",
      "/home/hong/miniconda3/lib/python3.12/site-packages/numpy/core/_methods.py:129: RuntimeWarning: invalid value encountered in scalar divide\n",
      "  ret = ret.dtype.type(ret / rcount)\n",
      "100%|██████████| 102/102 [00:05<00:00, 17.14it/s]\n"
     ]
    },
    {
     "ename": "KeyboardInterrupt",
     "evalue": "",
     "output_type": "error",
     "traceback": [
      "\u001b[0;31m---------------------------------------------------------------------------\u001b[0m",
      "\u001b[0;31mKeyboardInterrupt\u001b[0m                         Traceback (most recent call last)",
      "Cell \u001b[0;32mIn[18], line 76\u001b[0m\n\u001b[1;32m     74\u001b[0m sample_sizes \u001b[38;5;241m=\u001b[39m [\u001b[38;5;241m-\u001b[39m\u001b[38;5;241m1\u001b[39m]\n\u001b[1;32m     75\u001b[0m param_combinations \u001b[38;5;241m=\u001b[39m \u001b[38;5;28mlist\u001b[39m(itertools\u001b[38;5;241m.\u001b[39mproduct(pairs, sample_sizes))\n\u001b[0;32m---> 76\u001b[0m results \u001b[38;5;241m=\u001b[39m \u001b[43mParallel\u001b[49m\u001b[43m(\u001b[49m\u001b[43mn_jobs\u001b[49m\u001b[38;5;241;43m=\u001b[39;49m\u001b[38;5;241;43m30\u001b[39;49m\u001b[43m)\u001b[49m\u001b[43m(\u001b[49m\n\u001b[1;32m     77\u001b[0m \u001b[43m    \u001b[49m\u001b[43mdelayed\u001b[49m\u001b[43m(\u001b[49m\u001b[43mprocess_pair\u001b[49m\u001b[43m)\u001b[49m\u001b[43m(\u001b[49m\u001b[43mpair\u001b[49m\u001b[43m,\u001b[49m\u001b[43m \u001b[49m\u001b[43msample_size\u001b[49m\u001b[43m)\u001b[49m\n\u001b[1;32m     78\u001b[0m \u001b[43m    \u001b[49m\u001b[38;5;28;43;01mfor\u001b[39;49;00m\u001b[43m \u001b[49m\u001b[43mpair\u001b[49m\u001b[43m,\u001b[49m\u001b[43m \u001b[49m\u001b[43msample_size\u001b[49m\u001b[43m \u001b[49m\u001b[38;5;129;43;01min\u001b[39;49;00m\u001b[43m \u001b[49m\u001b[43mtqdm\u001b[49m\u001b[43m(\u001b[49m\u001b[43mparam_combinations\u001b[49m\u001b[43m)\u001b[49m\n\u001b[1;32m     79\u001b[0m \u001b[43m)\u001b[49m\n",
      "File \u001b[0;32m~/miniconda3/lib/python3.12/site-packages/joblib/parallel.py:1952\u001b[0m, in \u001b[0;36mParallel.__call__\u001b[0;34m(self, iterable)\u001b[0m\n\u001b[1;32m   1946\u001b[0m \u001b[38;5;66;03m# The first item from the output is blank, but it makes the interpreter\u001b[39;00m\n\u001b[1;32m   1947\u001b[0m \u001b[38;5;66;03m# progress until it enters the Try/Except block of the generator and\u001b[39;00m\n\u001b[1;32m   1948\u001b[0m \u001b[38;5;66;03m# reach the first `yield` statement. This starts the aynchronous\u001b[39;00m\n\u001b[1;32m   1949\u001b[0m \u001b[38;5;66;03m# dispatch of the tasks to the workers.\u001b[39;00m\n\u001b[1;32m   1950\u001b[0m \u001b[38;5;28mnext\u001b[39m(output)\n\u001b[0;32m-> 1952\u001b[0m \u001b[38;5;28;01mreturn\u001b[39;00m output \u001b[38;5;28;01mif\u001b[39;00m \u001b[38;5;28mself\u001b[39m\u001b[38;5;241m.\u001b[39mreturn_generator \u001b[38;5;28;01melse\u001b[39;00m \u001b[38;5;28;43mlist\u001b[39;49m\u001b[43m(\u001b[49m\u001b[43moutput\u001b[49m\u001b[43m)\u001b[49m\n",
      "File \u001b[0;32m~/miniconda3/lib/python3.12/site-packages/joblib/parallel.py:1595\u001b[0m, in \u001b[0;36mParallel._get_outputs\u001b[0;34m(self, iterator, pre_dispatch)\u001b[0m\n\u001b[1;32m   1592\u001b[0m     \u001b[38;5;28;01myield\u001b[39;00m\n\u001b[1;32m   1594\u001b[0m     \u001b[38;5;28;01mwith\u001b[39;00m \u001b[38;5;28mself\u001b[39m\u001b[38;5;241m.\u001b[39m_backend\u001b[38;5;241m.\u001b[39mretrieval_context():\n\u001b[0;32m-> 1595\u001b[0m         \u001b[38;5;28;01myield from\u001b[39;00m \u001b[38;5;28mself\u001b[39m\u001b[38;5;241m.\u001b[39m_retrieve()\n\u001b[1;32m   1597\u001b[0m \u001b[38;5;28;01mexcept\u001b[39;00m \u001b[38;5;167;01mGeneratorExit\u001b[39;00m:\n\u001b[1;32m   1598\u001b[0m     \u001b[38;5;66;03m# The generator has been garbage collected before being fully\u001b[39;00m\n\u001b[1;32m   1599\u001b[0m     \u001b[38;5;66;03m# consumed. This aborts the remaining tasks if possible and warn\u001b[39;00m\n\u001b[1;32m   1600\u001b[0m     \u001b[38;5;66;03m# the user if necessary.\u001b[39;00m\n\u001b[1;32m   1601\u001b[0m     \u001b[38;5;28mself\u001b[39m\u001b[38;5;241m.\u001b[39m_exception \u001b[38;5;241m=\u001b[39m \u001b[38;5;28;01mTrue\u001b[39;00m\n",
      "File \u001b[0;32m~/miniconda3/lib/python3.12/site-packages/joblib/parallel.py:1707\u001b[0m, in \u001b[0;36mParallel._retrieve\u001b[0;34m(self)\u001b[0m\n\u001b[1;32m   1702\u001b[0m \u001b[38;5;66;03m# If the next job is not ready for retrieval yet, we just wait for\u001b[39;00m\n\u001b[1;32m   1703\u001b[0m \u001b[38;5;66;03m# async callbacks to progress.\u001b[39;00m\n\u001b[1;32m   1704\u001b[0m \u001b[38;5;28;01mif\u001b[39;00m ((\u001b[38;5;28mlen\u001b[39m(\u001b[38;5;28mself\u001b[39m\u001b[38;5;241m.\u001b[39m_jobs) \u001b[38;5;241m==\u001b[39m \u001b[38;5;241m0\u001b[39m) \u001b[38;5;129;01mor\u001b[39;00m\n\u001b[1;32m   1705\u001b[0m     (\u001b[38;5;28mself\u001b[39m\u001b[38;5;241m.\u001b[39m_jobs[\u001b[38;5;241m0\u001b[39m]\u001b[38;5;241m.\u001b[39mget_status(\n\u001b[1;32m   1706\u001b[0m         timeout\u001b[38;5;241m=\u001b[39m\u001b[38;5;28mself\u001b[39m\u001b[38;5;241m.\u001b[39mtimeout) \u001b[38;5;241m==\u001b[39m TASK_PENDING)):\n\u001b[0;32m-> 1707\u001b[0m     \u001b[43mtime\u001b[49m\u001b[38;5;241;43m.\u001b[39;49m\u001b[43msleep\u001b[49m\u001b[43m(\u001b[49m\u001b[38;5;241;43m0.01\u001b[39;49m\u001b[43m)\u001b[49m\n\u001b[1;32m   1708\u001b[0m     \u001b[38;5;28;01mcontinue\u001b[39;00m\n\u001b[1;32m   1710\u001b[0m \u001b[38;5;66;03m# We need to be careful: the job list can be filling up as\u001b[39;00m\n\u001b[1;32m   1711\u001b[0m \u001b[38;5;66;03m# we empty it and Python list are not thread-safe by\u001b[39;00m\n\u001b[1;32m   1712\u001b[0m \u001b[38;5;66;03m# default hence the use of the lock\u001b[39;00m\n",
      "\u001b[0;31mKeyboardInterrupt\u001b[0m: "
     ]
    }
   ],
   "source": [
    "import sys\n",
    "\n",
    "sys.path.append(\"..\")\n",
    "from resit import MaxNormNCDRESIT\n",
    "import gzip, bz2, lzma, zstandard\n",
    "import time\n",
    "import itertools\n",
    "\n",
    "\n",
    "def order2arrow(order):\n",
    "    return \"->\" if tuple(order) == (0, 1) else \"<-\"\n",
    "\n",
    "\n",
    "def process_pair(pair, sample_size):\n",
    "    arr = pair_np_arrs[pair]\n",
    "    # if sample_size > 0:\n",
    "    #     sample_idx = np.random.choice(\n",
    "    #         arr.shape[0], min(arr.shape[0], sample_size), replace=False\n",
    "    #     )\n",
    "    #     arr = arr[sample_idx]\n",
    "    arr_norm = (arr - arr.mean(axis=0)) / arr.std(axis=0)\n",
    "\n",
    "    seed = 2024\n",
    "\n",
    "    model = lambda: RandomForestRegressor(random_state=69)\n",
    "    model_configs = {\n",
    "        \"resit\": lambda: RESIT(model(), random_state=seed),\n",
    "        \"resit_gzip\": lambda: MaxNormNCDRESIT(\n",
    "            model(), compressor=gzip, random_state=seed, mi_agg=np.mean\n",
    "        ),\n",
    "        \"resit_bz2\": lambda: MaxNormNCDRESIT(\n",
    "            model(), compressor=bz2, random_state=seed, mi_agg=np.mean\n",
    "        ),\n",
    "        \"resit_lzma\": lambda: MaxNormNCDRESIT(\n",
    "            model(), compressor=lzma, random_state=seed, mi_agg=np.mean\n",
    "        ),\n",
    "        \"resit_zstandard\": lambda: MaxNormNCDRESIT(\n",
    "            model(), compressor=zstandard, random_state=seed, mi_agg=np.mean\n",
    "        ),\n",
    "    }\n",
    "\n",
    "    ground_truth = pairs_info_df.loc[pairs_info_df.pair == pair, \"ground truth\"].item()\n",
    "    random = np.random.choice(2, size=2, replace=False)\n",
    "\n",
    "    result = {\n",
    "        \"pair\": pair,\n",
    "        \"sample_size\": sample_size,\n",
    "        \"random_acc\": order2arrow(random) == ground_truth,\n",
    "    }\n",
    "    for resit_model_name, resit_model in model_configs.items():\n",
    "        start_time = time.time()\n",
    "        causal_order = resit_model().fit(arr).causal_order_\n",
    "        end_time = time.time()\n",
    "        total_time = end_time - start_time\n",
    "\n",
    "        result[f\"{resit_model_name}_is_correct\"] = order2arrow(causal_order) == ground_truth\n",
    "        result[f\"time_{resit_model_name}\"] = total_time\n",
    "\n",
    "        start_time = time.time()\n",
    "        causal_order = resit_model().fit(arr_norm).causal_order_\n",
    "        end_time = time.time()\n",
    "        total_time = end_time - start_time\n",
    "\n",
    "        result[f\"{resit_model_name}_norm_is_correct\"] = (\n",
    "            order2arrow(causal_order) == ground_truth\n",
    "        )\n",
    "        result[f\"time_{resit_model_name}_norm\"] = total_time\n",
    "\n",
    "        return result\n",
    "\n",
    "\n",
    "# Assuming you have defined 'pairs' elsewhere\n",
    "\n",
    "sample_sizes = [-1]\n",
    "param_combinations = list(itertools.product(pairs, sample_sizes))\n",
    "results = Parallel(n_jobs=30)(\n",
    "    delayed(process_pair)(pair, sample_size)\n",
    "    for pair, sample_size in tqdm(param_combinations)\n",
    ")"
   ]
  },
  {
   "cell_type": "code",
   "execution_count": null,
   "metadata": {},
   "outputs": [],
   "source": []
  },
  {
   "cell_type": "code",
   "execution_count": 17,
   "metadata": {},
   "outputs": [
    {
     "data": {
      "text/plain": [
       "resit_acc        0.509804\n",
       "compresit_acc    0.549020\n",
       "random_acc       0.450980\n",
       "dtype: float64"
      ]
     },
     "execution_count": 17,
     "metadata": {},
     "output_type": "execute_result"
    }
   ],
   "source": [
    "pd.DataFrame(results).set_index(\"pair\").mean()"
   ]
  },
  {
   "cell_type": "code",
   "execution_count": null,
   "metadata": {},
   "outputs": [],
   "source": []
  }
 ],
 "metadata": {
  "kernelspec": {
   "display_name": "base",
   "language": "python",
   "name": "python3"
  },
  "language_info": {
   "codemirror_mode": {
    "name": "ipython",
    "version": 3
   },
   "file_extension": ".py",
   "mimetype": "text/x-python",
   "name": "python",
   "nbconvert_exporter": "python",
   "pygments_lexer": "ipython3",
   "version": "3.12.2"
  }
 },
 "nbformat": 4,
 "nbformat_minor": 2
}
